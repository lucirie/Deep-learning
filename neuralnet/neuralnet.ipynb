{
 "cells": [
  {
   "cell_type": "markdown",
   "id": "f8a6ebe3",
   "metadata": {},
   "source": [
    "# Neural Network for Image Classification with Numpy\n",
    "\n",
    "In this notebook, I'll be making a Neural network for image classification on the MNIST Dataset. A dataset containing handwritten digits of 60,000 training examples and 10,000 testing examples.\n",
    "\n",
    "Goals:\n",
    "- [Loading Data and Initializing Parameters](#loading-the-data)\n",
    "- [Forward Propagation](#forward-propagation)\n",
    "- [Backward Propagation](#backward-propagation)\n",
    "- [Testing the model](#testing-the-model)"
   ]
  }
 ],
 "metadata": {
  "kernelspec": {
   "display_name": "Python 3",
   "language": "python",
   "name": "python3"
  },
  "language_info": {
   "name": "python",
   "version": "3.12.2"
  }
 },
 "nbformat": 4,
 "nbformat_minor": 5
}
